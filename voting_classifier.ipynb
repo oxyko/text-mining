{
 "cells": [
  {
   "cell_type": "markdown",
   "metadata": {},
   "source": [
    "# Voting on number of classifying algorithms\n",
    "\n",
    "Using just one classifier gives different accuracy from one training set to another, so running several classifiers and using a mechanizm to score and vote for classifiers, as well as see which results are supported by several classifiers, will allow us to raise accuracy and reliability of the results."
   ]
  },
  {
   "cell_type": "markdown",
   "metadata": {},
   "source": [
    "### Usual corpus -> feature sets setup.\n",
    "(Same as in sample_txt_classifiers and nb_txt_classifier)"
   ]
  },
  {
   "cell_type": "code",
   "execution_count": null,
   "metadata": {},
   "outputs": [],
   "source": [
    "import nltk\n",
    "import random\n",
    "from nltk.corpus import movie_reviews\n",
    "\n",
    "documents = [(list(movie_reviews.words(fileid)), category)\n",
    "            for category in movie_reviews.categories()\n",
    "            for fileid in movie_reviews.fileids(category)]\n",
    "\n",
    "# Select most common words in all reviews (positive and negative)¶\n",
    "all_words = []\n",
    "for w in movie_reviews.words():\n",
    "    all_words.append(w.lower())\n",
    "    \n",
    "# Convert all_words from a list to a frequency distribution.\n",
    "all_words = nltk.FreqDist(all_words)\n",
    "all_words.most_common(15)\n",
    "\n",
    "# Select only top commonly used words.\n",
    "word_features = [wordFreq[0] for wordFreq in all_words.most_common(3000)]\n",
    "\n",
    "def find_features(document):\n",
    "    words = set(document)  ## pick only unique words in the review\n",
    "    features = {}\n",
    "    for w in words:\n",
    "        features[w] = (w in word_features)\n",
    "    return features\n",
    "\n",
    "feature_sets = [(find_features(review_words),category) for review_words, category in documents]\n",
    "feature_sets[0]"
   ]
  },
  {
   "cell_type": "code",
   "execution_count": null,
   "metadata": {},
   "outputs": [],
   "source": [
    "# Randomise items in the feature set to select test and training sets randomly.\n",
    "random.shuffle(feature_sets)\n",
    "\n",
    "# Select training and test sets\n",
    "training_set = feature_sets[:1900]\n",
    "testing_set = feature_sets[1900:]"
   ]
  },
  {
   "cell_type": "markdown",
   "metadata": {},
   "source": [
    "## Set up and train all the classifiers that we want to use in the voting classifier"
   ]
  },
  {
   "cell_type": "code",
   "execution_count": null,
   "metadata": {},
   "outputs": [],
   "source": [
    "from nltk.classify.scikitlearn import SklearnClassifier  ## wrapper for scikitlearn in nltk\n",
    "from sklearn.naive_bayes import MultinomialNB, BernoulliNB\n",
    "from sklearn.linear_model import LogisticRegression, SGDClassifier # Stochastic Gradiant Descent\n",
    "from sklearn.svm import SVC, LinearSVC, NuSVC\n",
    "\n",
    "simple_NB_classifier = SklearnClassifier(LogisticRegression())\n",
    "simple_NB_classifier.train(training_set)\n",
    "\n",
    "mnb_classifier = SklearnClassifier(MultinomialNB())\n",
    "mnb_classifier.train(training_set)\n",
    "\n",
    "bnb_classifier = SklearnClassifier(BernoulliNB())\n",
    "bnb_classifier.train(training_set)\n",
    "\n",
    "lr_classifier = SklearnClassifier(LogisticRegression())\n",
    "lr_classifier.train(training_set)\n",
    "\n",
    "sgd_classifier = SklearnClassifier(SGDClassifier())\n",
    "sgd_classifier.train(training_set)\n",
    "\n",
    "svc_classifier = SklearnClassifier(SVC())\n",
    "svc_classifier.train(training_set)\n",
    "\n",
    "lsvc_classifier = SklearnClassifier(LinearSVC())\n",
    "lsvc_classifier.train(training_set)\n",
    "\n",
    "nsvc_classifier = SklearnClassifier(NuSVC())\n",
    "nsvc_classifier.train(training_set)"
   ]
  },
  {
   "cell_type": "markdown",
   "metadata": {},
   "source": [
    "## Create a voting classifier class"
   ]
  },
  {
   "cell_type": "code",
   "execution_count": null,
   "metadata": {},
   "outputs": [],
   "source": [
    "from nltk.classify import ClassifierI\n",
    "from statistics import mode\n",
    "\n",
    "class VoteClassifier(ClassifierI):\n",
    "    def __init__(self, *classifiers):\n",
    "        self._classifiers = classifiers\n",
    "        \n",
    "    def classify(self, features):\n",
    "        votes = []\n",
    "        for c in self._classifiers:\n",
    "            v = c.classify(features)\n",
    "            votes.append(v)\n",
    "        return mode(votes)\n",
    "    \n",
    "    def confidence(self, features):\n",
    "        votes = []\n",
    "        for c in self._classifiers:\n",
    "            v = c.classify(features)\n",
    "            votes.append(v)\n",
    "        \n",
    "        choice_votes = votes.count(mode(votes))\n",
    "        conf = choice_votes / len(votes)\n",
    "        \n",
    "        return conf\n",
    "\n"
   ]
  },
  {
   "cell_type": "markdown",
   "metadata": {},
   "source": [
    "## Set up and run the voting classifier"
   ]
  },
  {
   "cell_type": "code",
   "execution_count": null,
   "metadata": {},
   "outputs": [],
   "source": [
    "voted_classifier = VoteClassifier(simple_NB_classifier, mnb_classifier, bnb_classifier, lr_classifier, \n",
    "                                  sgd_classifier, svc_classifier, lsvc_classifier, nsvc_classifier)\n",
    "\n",
    "classifier_accuracy = nltk.classify.accuracy(voted_classifier, testing_set)"
   ]
  },
  {
   "cell_type": "code",
   "execution_count": null,
   "metadata": {},
   "outputs": [],
   "source": [
    "classifier_accuracy"
   ]
  },
  {
   "cell_type": "markdown",
   "metadata": {},
   "source": [
    "See some examples by classifying some instances with the voted classifier"
   ]
  },
  {
   "cell_type": "code",
   "execution_count": null,
   "metadata": {},
   "outputs": [],
   "source": [
    "voted_classifier.classify(testing_set[0][0])\n"
   ]
  },
  {
   "cell_type": "code",
   "execution_count": null,
   "metadata": {},
   "outputs": [],
   "source": [
    "voted_classifier.confidence(testing_set[0[0]])"
   ]
  },
  {
   "cell_type": "code",
   "execution_count": null,
   "metadata": {},
   "outputs": [],
   "source": []
  }
 ],
 "metadata": {
  "kernelspec": {
   "display_name": "Python 3",
   "language": "python",
   "name": "python3"
  },
  "language_info": {
   "codemirror_mode": {
    "name": "ipython",
    "version": 3
   },
   "file_extension": ".py",
   "mimetype": "text/x-python",
   "name": "python",
   "nbconvert_exporter": "python",
   "pygments_lexer": "ipython3",
   "version": "3.6.6"
  }
 },
 "nbformat": 4,
 "nbformat_minor": 2
}
