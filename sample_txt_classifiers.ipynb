{
 "cells": [
  {
   "cell_type": "markdown",
   "metadata": {},
   "source": [
    "# Classifing text with NLTK (natural language processing) and ScikitLearn (machine learning) \n",
    "\n",
    "Examples of classifiers from NLTK and ScikitLearn with default parameters. One run of a single training/testing set setup."
   ]
  },
  {
   "cell_type": "markdown",
   "metadata": {},
   "source": [
    "NLTK and other imports (see nb_txt_classifier for getting the corpus and training set ready)"
   ]
  },
  {
   "cell_type": "code",
   "execution_count": 49,
   "metadata": {},
   "outputs": [],
   "source": [
    "import nltk\n",
    "import random\n",
    "from nltk.corpus import movie_reviews"
   ]
  },
  {
   "cell_type": "markdown",
   "metadata": {},
   "source": [
    "ScikitLearn imports"
   ]
  },
  {
   "cell_type": "code",
   "execution_count": 50,
   "metadata": {},
   "outputs": [],
   "source": [
    "from nltk.classify.scikitlearn import SklearnClassifier  ## wrapper for scikitlearn in nltk\n",
    "from sklearn.naive_bayes import MultinomialNB, GaussianNB, BernoulliNB\n",
    "from sklearn.linear_model import LogisticRegression, SGDClassifier # Stochastic Gradiant Descent\n",
    "from sklearn.svm import SVC, LinearSVC, NuSVC"
   ]
  },
  {
   "cell_type": "markdown",
   "metadata": {},
   "source": [
    "### Get feature sets from the corpus"
   ]
  },
  {
   "cell_type": "code",
   "execution_count": 51,
   "metadata": {},
   "outputs": [],
   "source": [
    "documents = [(list(movie_reviews.words(fileid)), category)\n",
    "            for category in movie_reviews.categories()\n",
    "            for fileid in movie_reviews.fileids(category)]\n",
    "\n",
    "# Select most common words in all reviews (positive and negative)¶\n",
    "all_words = []\n",
    "for w in movie_reviews.words():\n",
    "    all_words.append(w.lower())\n",
    "    \n",
    "# Convert all_words from a list to a frequency distribution.\n",
    "all_words = nltk.FreqDist(all_words)\n",
    "all_words.most_common(15)\n",
    "\n",
    "# Select only top commonly used words.\n",
    "word_features = [wordFreq[0] for wordFreq in all_words.most_common(3000)]"
   ]
  },
  {
   "cell_type": "markdown",
   "metadata": {},
   "source": [
    "Define training features (whether corpus words belong to the most frequent words list)"
   ]
  },
  {
   "cell_type": "code",
   "execution_count": 52,
   "metadata": {},
   "outputs": [],
   "source": [
    "def find_features(document):\n",
    "    words = set(document)  ## pick only unique words in the review\n",
    "    features = {}\n",
    "    for w in words:\n",
    "        features[w] = (w in word_features)\n",
    "    return features\n",
    "\n",
    "feature_sets = [(find_features(review_words),category) for review_words, category in documents]"
   ]
  },
  {
   "cell_type": "markdown",
   "metadata": {},
   "source": [
    "## Classification"
   ]
  },
  {
   "cell_type": "markdown",
   "metadata": {},
   "source": [
    "Do a common train and test set setup for all the classifiers below."
   ]
  },
  {
   "cell_type": "code",
   "execution_count": 53,
   "metadata": {},
   "outputs": [],
   "source": [
    "# Randomise items in the feature set to select test and training sets randomly.\n",
    "random.shuffle(feature_sets)\n",
    "\n",
    "# Select training and test sets\n",
    "training_set = feature_sets[:1900]\n",
    "testing_set = feature_sets[1900:]"
   ]
  },
  {
   "cell_type": "markdown",
   "metadata": {},
   "source": [
    "### Classifier 1: Original NLTK Naive Bayes"
   ]
  },
  {
   "cell_type": "code",
   "execution_count": 54,
   "metadata": {},
   "outputs": [
    {
     "name": "stdout",
     "output_type": "stream",
     "text": [
      "Classifier accuracy: 0.7\n",
      "Most Informative Features\n",
      "               ludicrous = False             neg : pos    =     14.3 : 1.0\n",
      "             outstanding = True              pos : neg    =     13.8 : 1.0\n",
      "                  avoids = False             pos : neg    =     12.3 : 1.0\n",
      "              astounding = False             pos : neg    =     11.6 : 1.0\n",
      "                    slip = False             pos : neg    =     11.6 : 1.0\n",
      "               insulting = False             neg : pos    =     11.0 : 1.0\n",
      "                headache = False             neg : pos    =     11.0 : 1.0\n",
      "                    3000 = False             neg : pos    =     10.4 : 1.0\n",
      "                  hudson = False             neg : pos    =     10.4 : 1.0\n",
      "                  hatred = False             pos : neg    =     10.3 : 1.0\n",
      "                thematic = False             pos : neg    =     10.3 : 1.0\n",
      "                   sucks = False             neg : pos    =     10.2 : 1.0\n",
      "              incoherent = False             neg : pos    =      9.7 : 1.0\n",
      "                     goo = False             neg : pos    =      9.7 : 1.0\n",
      "               addresses = False             pos : neg    =      9.6 : 1.0\n",
      "2.31 s ± 0 ns per loop (mean ± std. dev. of 1 run, 1 loop each)\n"
     ]
    }
   ],
   "source": [
    "%%timeit -r1 -n1\n",
    "classifier = nltk.NaiveBayesClassifier.train(training_set)\n",
    "classifier_accuracy = nltk.classify.accuracy(classifier, testing_set)\n",
    "print(\"Classifier accuracy: {}\".format(classifier_accuracy))\n",
    "classifier.show_most_informative_features(15)"
   ]
  },
  {
   "cell_type": "markdown",
   "metadata": {},
   "source": [
    "### Classifier 2: Multinomial Naive Bayes from ScikitLearn"
   ]
  },
  {
   "cell_type": "code",
   "execution_count": 55,
   "metadata": {},
   "outputs": [
    {
     "name": "stdout",
     "output_type": "stream",
     "text": [
      "Classifier accuracy: 0.86\n",
      "613 ms ± 0 ns per loop (mean ± std. dev. of 1 run, 1 loop each)\n"
     ]
    }
   ],
   "source": [
    "%%timeit -r1 -n1\n",
    "\n",
    "from sklearn.naive_bayes import MultinomialNB\n",
    "\n",
    "mnb_classifier = SklearnClassifier(MultinomialNB())\n",
    "mnb_classifier.train(training_set)\n",
    "classifier_accuracy = nltk.classify.accuracy(mnb_classifier, testing_set)\n",
    "print(\"Classifier accuracy: {}\".format(classifier_accuracy))\n",
    "#mnb_classifier.show_most_informative_features(15)"
   ]
  },
  {
   "cell_type": "markdown",
   "metadata": {},
   "source": [
    "### Classifier 3: Gaussian Naive Bayes from ScikitLearn"
   ]
  },
  {
   "cell_type": "code",
   "execution_count": 56,
   "metadata": {},
   "outputs": [],
   "source": [
    "#Doesn't work, need to look it up\n",
    "#gnb_classifier = SklearnClassifier(GaussianNB())\n",
    "#gnb_classifier.train(training_set)\n",
    "#classifier_accuracy = nltk.classify.accuracy(gnb_classifier, testing_set)\n",
    "#print(\"Classifier accuracy: {}\".format(classifier_accuracy))\n",
    "##gnb_classifier.show_most_informative_features(15)"
   ]
  },
  {
   "cell_type": "markdown",
   "metadata": {},
   "source": [
    "### Classifier 4: Bernoulli Naive Bayes from ScikitLearn"
   ]
  },
  {
   "cell_type": "code",
   "execution_count": 57,
   "metadata": {},
   "outputs": [
    {
     "name": "stdout",
     "output_type": "stream",
     "text": [
      "Classifier accuracy: 0.83\n",
      "596 ms ± 0 ns per loop (mean ± std. dev. of 1 run, 1 loop each)\n"
     ]
    }
   ],
   "source": [
    "%%timeit -r1 -n1\n",
    "\n",
    "from sklearn.naive_bayes import BernoulliNB\n",
    "\n",
    "bnb_classifier = SklearnClassifier(BernoulliNB())\n",
    "bnb_classifier.train(training_set)\n",
    "classifier_accuracy = nltk.classify.accuracy(bnb_classifier, testing_set)\n",
    "print(\"Classifier accuracy: {}\".format(classifier_accuracy))\n",
    "#bnb_classifier.show_most_informative_features(15)"
   ]
  },
  {
   "cell_type": "markdown",
   "metadata": {},
   "source": [
    "### Classifier 5: Logistic Regression from ScikitLearn"
   ]
  },
  {
   "cell_type": "code",
   "execution_count": 58,
   "metadata": {},
   "outputs": [
    {
     "name": "stdout",
     "output_type": "stream",
     "text": [
      "Classifier accuracy: 0.89\n",
      "754 ms ± 0 ns per loop (mean ± std. dev. of 1 run, 1 loop each)\n"
     ]
    }
   ],
   "source": [
    "%%timeit -r1 -n1\n",
    "\n",
    "from sklearn.linear_model import LogisticRegression\n",
    "\n",
    "classifier = SklearnClassifier(LogisticRegression())\n",
    "classifier.train(training_set)\n",
    "classifier_accuracy = nltk.classify.accuracy(bnb_classifier, testing_set)\n",
    "print(\"Classifier accuracy: {}\".format(classifier_accuracy))\n",
    "#bnb_classifier.show_most_informative_features(15)"
   ]
  },
  {
   "cell_type": "markdown",
   "metadata": {},
   "source": [
    "### Classifier 6: Stochastic Gradient Descent from ScikitLearn"
   ]
  },
  {
   "cell_type": "code",
   "execution_count": 59,
   "metadata": {},
   "outputs": [
    {
     "name": "stdout",
     "output_type": "stream",
     "text": [
      "Classifier accuracy: 0.78\n",
      "615 ms ± 0 ns per loop (mean ± std. dev. of 1 run, 1 loop each)\n"
     ]
    },
    {
     "name": "stderr",
     "output_type": "stream",
     "text": [
      "/Users/korolo/miniconda3/envs/ipython/lib/python3.6/site-packages/sklearn/linear_model/stochastic_gradient.py:128: FutureWarning: max_iter and tol parameters have been added in <class 'sklearn.linear_model.stochastic_gradient.SGDClassifier'> in 0.19. If both are left unset, they default to max_iter=5 and tol=None. If tol is not None, max_iter defaults to max_iter=1000. From 0.21, default max_iter will be 1000, and default tol will be 1e-3.\n",
      "  \"and default tol will be 1e-3.\" % type(self), FutureWarning)\n"
     ]
    }
   ],
   "source": [
    "%%timeit -r1 -n1\n",
    "\n",
    "from sklearn.linear_model import SGDClassifier\n",
    "classifier = SklearnClassifier(SGDClassifier())\n",
    "classifier.train(training_set)\n",
    "classifier_accuracy = nltk.classify.accuracy(classifier, testing_set)\n",
    "print(\"Classifier accuracy: {}\".format(classifier_accuracy))\n",
    "#classifier.show_most_informative_features(15)\n"
   ]
  },
  {
   "cell_type": "markdown",
   "metadata": {},
   "source": [
    "### Classifier 7: SVM from ScikitLearn"
   ]
  },
  {
   "cell_type": "code",
   "execution_count": 60,
   "metadata": {},
   "outputs": [
    {
     "name": "stdout",
     "output_type": "stream",
     "text": [
      "Classifier accuracy: 0.48\n",
      "7.3 s ± 0 ns per loop (mean ± std. dev. of 1 run, 1 loop each)\n"
     ]
    }
   ],
   "source": [
    "%%timeit -r1 -n1\n",
    "\n",
    "from sklearn.svm import SVC\n",
    "\n",
    "classifier = SklearnClassifier(SVC())\n",
    "classifier.train(training_set)\n",
    "classifier_accuracy = nltk.classify.accuracy(classifier, testing_set)\n",
    "print(\"Classifier accuracy: {}\".format(classifier_accuracy))\n",
    "#classifier.show_most_informative_features(15)"
   ]
  },
  {
   "cell_type": "markdown",
   "metadata": {},
   "source": [
    "### Classifier 8: Linear SVM from ScikitLearn"
   ]
  },
  {
   "cell_type": "code",
   "execution_count": 61,
   "metadata": {},
   "outputs": [
    {
     "name": "stdout",
     "output_type": "stream",
     "text": [
      "Classifier accuracy: 0.82\n",
      "673 ms ± 0 ns per loop (mean ± std. dev. of 1 run, 1 loop each)\n"
     ]
    }
   ],
   "source": [
    "%%timeit -r1 -n1\n",
    "\n",
    "from sklearn.svm import LinearSVC\n",
    "\n",
    "classifier = SklearnClassifier(LinearSVC())\n",
    "classifier.train(training_set)\n",
    "classifier_accuracy = nltk.classify.accuracy(classifier, testing_set)\n",
    "print(\"Classifier accuracy: {}\".format(classifier_accuracy))\n",
    "#classifier.show_most_informative_features(15)"
   ]
  },
  {
   "cell_type": "markdown",
   "metadata": {},
   "source": [
    "### Classifier 9: SVM with numeric parameter from ScikitLearn\n",
    "\n",
    "You can specify the number of support vectors"
   ]
  },
  {
   "cell_type": "code",
   "execution_count": 62,
   "metadata": {},
   "outputs": [
    {
     "name": "stdout",
     "output_type": "stream",
     "text": [
      "Classifier accuracy: 0.86\n",
      "5.89 s ± 0 ns per loop (mean ± std. dev. of 1 run, 1 loop each)\n"
     ]
    }
   ],
   "source": [
    "%%timeit -r1 -n1\n",
    "\n",
    "from sklearn.svm import NuSVC\n",
    "\n",
    "classifier = SklearnClassifier(NuSVC())\n",
    "classifier.train(training_set)\n",
    "classifier_accuracy = nltk.classify.accuracy(classifier, testing_set)\n",
    "print(\"Classifier accuracy: {}\".format(classifier_accuracy))\n",
    "#classifier.show_most_informative_features(15)"
   ]
  },
  {
   "cell_type": "code",
   "execution_count": null,
   "metadata": {},
   "outputs": [],
   "source": []
  }
 ],
 "metadata": {
  "kernelspec": {
   "display_name": "Python 3",
   "language": "python",
   "name": "python3"
  },
  "language_info": {
   "codemirror_mode": {
    "name": "ipython",
    "version": 3
   },
   "file_extension": ".py",
   "mimetype": "text/x-python",
   "name": "python",
   "nbconvert_exporter": "python",
   "pygments_lexer": "ipython3",
   "version": "3.6.4"
  }
 },
 "nbformat": 4,
 "nbformat_minor": 2
}
