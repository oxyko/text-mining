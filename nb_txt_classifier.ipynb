{
 "cells": [
  {
   "cell_type": "markdown",
   "metadata": {},
   "source": [
    "# Sample Naïve Bayes text classifier for sentiment analysis"
   ]
  },
  {
   "cell_type": "markdown",
   "metadata": {},
   "source": [
    "Example of a simple classifier using natural language processing with NLTK library. It uses a simple Naïve Bayes classifier (which is part of nltk) and pickles resulting classifier for future use.\n",
    "\n",
    "Info on NLTK: http://www.nltk.org/book/\n",
    "\n",
    "The approach we take here is quite simple. \n",
    "1. We have a labeled dataset of movie reviews (positive and negative). \n",
    "2. We combine all the reviews and tokenize them into words. \n",
    "3. Then we pick the most frequently used words. Note that we do not stem/lemmatize, remove stopwords or take grammar into consideration. This is because we use a Naïve Bayes algorithm to determine which of the most common words are founds mostly in positive or negative reviews. This step will take care of the grammar and irrelevant words (like \"the\", \"to\", punctuation, etc.).\n",
    "4. Use Naïve Bayes to classify which of the commonly used words are more common in positive or negative reviews. We use a training set (subset of reviews) for this.\n",
    "5. Use the 2 sets of positive and negative words to classify the rest of the documents. We use a testing set of reviews for this.\n",
    "6. Evaluate the performance of the classifier."
   ]
  },
  {
   "cell_type": "code",
   "execution_count": 139,
   "metadata": {},
   "outputs": [],
   "source": [
    "import nltk\n",
    "import random\n",
    "from nltk.corpus import movie_reviews"
   ]
  },
  {
   "cell_type": "markdown",
   "metadata": {},
   "source": [
    "#### Create corpus \n",
    "This will be the list of all reviews with their category (positive or negative)."
   ]
  },
  {
   "cell_type": "code",
   "execution_count": 140,
   "metadata": {},
   "outputs": [
    {
     "data": {
      "text/plain": [
       "['neg', 'neg', 'neg', 'neg', 'neg', 'neg', 'neg', 'neg', 'neg', 'neg']"
      ]
     },
     "execution_count": 140,
     "metadata": {},
     "output_type": "execute_result"
    }
   ],
   "source": [
    "documents = [(list(movie_reviews.words(fileid)), category)\n",
    "            for category in movie_reviews.categories()\n",
    "            for fileid in movie_reviews.fileids(category)]\n",
    "'''\n",
    "## Same as:\n",
    "documents = []\n",
    "for category in movie_reviews.categories():\n",
    "    for fileid in movie_reviews.fileids(category):\n",
    "        documents.append(list(movie_reviews.words(fileid), category)\n",
    "'''\n",
    "[d[1] for d in documents[:10]]"
   ]
  },
  {
   "cell_type": "code",
   "execution_count": 180,
   "metadata": {},
   "outputs": [],
   "source": [
    "## No need to re-shuffle the documents, we will re-shuffle the feature sets further on.\n",
    "#random.shuffle(documents)\n",
    "#[d[1] for d in documents[:10]]    "
   ]
  },
  {
   "cell_type": "markdown",
   "metadata": {},
   "source": [
    "#### Select most common words in all reviews (positive and negative)"
   ]
  },
  {
   "cell_type": "code",
   "execution_count": 181,
   "metadata": {},
   "outputs": [],
   "source": [
    "all_words = []\n",
    "for w in movie_reviews.words():\n",
    "    all_words.append(w.lower())"
   ]
  },
  {
   "cell_type": "markdown",
   "metadata": {},
   "source": [
    "Convert all_words from a list to a frequency distribution."
   ]
  },
  {
   "cell_type": "code",
   "execution_count": 182,
   "metadata": {},
   "outputs": [
    {
     "data": {
      "text/plain": [
       "[(',', 77717),\n",
       " ('the', 76529),\n",
       " ('.', 65876),\n",
       " ('a', 38106),\n",
       " ('and', 35576),\n",
       " ('of', 34123),\n",
       " ('to', 31937),\n",
       " (\"'\", 30585),\n",
       " ('is', 25195),\n",
       " ('in', 21822),\n",
       " ('s', 18513),\n",
       " ('\"', 17612),\n",
       " ('it', 16107),\n",
       " ('that', 15924),\n",
       " ('-', 15595)]"
      ]
     },
     "execution_count": 182,
     "metadata": {},
     "output_type": "execute_result"
    }
   ],
   "source": [
    "all_words = nltk.FreqDist(all_words)\n",
    "all_words.most_common(15)"
   ]
  },
  {
   "cell_type": "code",
   "execution_count": 183,
   "metadata": {},
   "outputs": [
    {
     "data": {
      "text/plain": [
       "190"
      ]
     },
     "execution_count": 183,
     "metadata": {},
     "output_type": "execute_result"
    }
   ],
   "source": [
    "## See what we've got\n",
    "all_words.elements  ## This is sorted by frequency list of elements with frequencies\n",
    "all_words.keys()  ## This list is not sorted\n",
    "all_words[\"smart\"]"
   ]
  },
  {
   "cell_type": "markdown",
   "metadata": {},
   "source": [
    "Select only top commonly used words."
   ]
  },
  {
   "cell_type": "code",
   "execution_count": 184,
   "metadata": {},
   "outputs": [
    {
     "name": "stdout",
     "output_type": "stream",
     "text": [
      "[',', 'the', '.', 'a', 'and', 'of', 'to', \"'\", 'is', 'in', 's', '\"', 'it', 'that', '-', ')', '(', 'as', 'with', 'for', 'his', 'this', 'film', 'i', 'he', 'but', 'on', 'are', 't', 'by']\n"
     ]
    }
   ],
   "source": [
    "word_features = [wordFreq[0] for wordFreq in all_words.most_common(3000)]\n",
    "#word_features = list(all_words.keys())[:3000]  # takes random words, not the most common\n",
    "\n",
    "print([wf for wf in word_features[:30]])"
   ]
  },
  {
   "cell_type": "markdown",
   "metadata": {},
   "source": [
    "For all the words in all the reviews, find if they are in the commonly used words set.\n"
   ]
  },
  {
   "cell_type": "code",
   "execution_count": 188,
   "metadata": {},
   "outputs": [
    {
     "name": "stdout",
     "output_type": "stream",
     "text": [
      "13.8 s ± 0 ns per loop (mean ± std. dev. of 1 run, 1 loop each)\n"
     ]
    }
   ],
   "source": [
    "%%timeit -r1 -n1\n",
    "\n",
    "def find_features(document):\n",
    "    words = set(document)  ## pick only unique words in the review\n",
    "    features = {}\n",
    "    for w in words:\n",
    "        features[w] = (w in word_features)\n",
    "    return features\n",
    "\n",
    "#find_features(movie_reviews.words('pos/cv980_10953.txt'))\n",
    "#find_features(movie_reviews.words('neg/cv974_24303.txt'))\n",
    "\n",
    "feature_sets = [(find_features(review_words),category) for review_words, category in documents]\n"
   ]
  },
  {
   "cell_type": "markdown",
   "metadata": {},
   "source": [
    "feature_sets is a list of (__dict__, __str__) elements, where \n",
    "- __dict__ is a dictionary of unique words in a review with True/False values for whether this word is in commonly used set\n",
    "- __str__ is a pos/neg category of the review"
   ]
  },
  {
   "cell_type": "code",
   "execution_count": 189,
   "metadata": {},
   "outputs": [
    {
     "data": {
      "text/plain": [
       "({'&': True,\n",
       "  '(': True,\n",
       "  ')': True,\n",
       "  ',': True,\n",
       "  '-': True,\n",
       "  '.': True,\n",
       "  '15th': False,\n",
       "  '?': True,\n",
       "  'a': True,\n",
       "  'about': True,\n",
       "  'absent': False,\n",
       "  'achieve': False,\n",
       "  'acting': True,\n",
       "  'addressed': False,\n",
       "  'admit': True,\n",
       "  'advertisements': False,\n",
       "  'affected': False,\n",
       "  'after': True,\n",
       "  'ahead': True,\n",
       "  'all': True,\n",
       "  'allowed': True,\n",
       "  'allowing': False,\n",
       "  'altered': False,\n",
       "  'am': True,\n",
       "  'an': True,\n",
       "  'and': True,\n",
       "  'answer': True,\n",
       "  'any': True,\n",
       "  'appreciate': True,\n",
       "  'are': True,\n",
       "  'as': True,\n",
       "  'ask': True,\n",
       "  'at': True,\n",
       "  'audience': True,\n",
       "  'automobile': False,\n",
       "  'bad': True,\n",
       "  'barnes': False,\n",
       "  'based': True,\n",
       "  'be': True,\n",
       "  'because': True,\n",
       "  'been': True,\n",
       "  'befuddled': False,\n",
       "  'begin': True,\n",
       "  'beginning': True,\n",
       "  'being': True,\n",
       "  'belonging': False,\n",
       "  'big': True,\n",
       "  'bizarre': True,\n",
       "  'bleak': True,\n",
       "  'blips': False,\n",
       "  'bloody': True,\n",
       "  'blown': True,\n",
       "  'brilliant': True,\n",
       "  'bring': True,\n",
       "  'bringing': True,\n",
       "  'brutal': True,\n",
       "  'business': True,\n",
       "  'but': True,\n",
       "  'by': True,\n",
       "  'can': True,\n",
       "  'capable': True,\n",
       "  'carter': True,\n",
       "  'category': False,\n",
       "  'certain': True,\n",
       "  'changing': False,\n",
       "  'club': True,\n",
       "  'coarsely': False,\n",
       "  'comfort': False,\n",
       "  'commentary': True,\n",
       "  'comments': True,\n",
       "  'complete': True,\n",
       "  'complex': True,\n",
       "  'compulsive': False,\n",
       "  'contains': True,\n",
       "  'control': True,\n",
       "  'corner': True,\n",
       "  'corporations': False,\n",
       "  'couldn': True,\n",
       "  'coupled': False,\n",
       "  'critical': True,\n",
       "  'critics': True,\n",
       "  'cult': True,\n",
       "  'dare': False,\n",
       "  'days': True,\n",
       "  'design': True,\n",
       "  'desires': False,\n",
       "  'desperate': True,\n",
       "  'did': True,\n",
       "  'different': True,\n",
       "  'digital': True,\n",
       "  'disappointed': True,\n",
       "  'distorted': False,\n",
       "  'do': True,\n",
       "  'don': True,\n",
       "  'each': True,\n",
       "  'edward': True,\n",
       "  'either': True,\n",
       "  'elements': True,\n",
       "  'end': True,\n",
       "  'even': True,\n",
       "  'examiner': False,\n",
       "  'experiments': False,\n",
       "  'explains': True,\n",
       "  'extended': True,\n",
       "  'extraordinary': True,\n",
       "  'favorite': True,\n",
       "  'field': True,\n",
       "  'fight': True,\n",
       "  'figure': True,\n",
       "  'fill': True,\n",
       "  'filled': True,\n",
       "  'film': True,\n",
       "  'filmmakers': True,\n",
       "  'films': True,\n",
       "  'fincher': True,\n",
       "  'fine': True,\n",
       "  'finger': False,\n",
       "  'fistfights': False,\n",
       "  'flashback': True,\n",
       "  'flight': False,\n",
       "  'for': True,\n",
       "  'former': True,\n",
       "  'from': True,\n",
       "  'furniture': False,\n",
       "  'future': True,\n",
       "  'game': True,\n",
       "  'garbage': False,\n",
       "  'generation': True,\n",
       "  'genius': True,\n",
       "  'get': True,\n",
       "  'give': True,\n",
       "  'gives': True,\n",
       "  'gold': True,\n",
       "  'good': True,\n",
       "  'grows': True,\n",
       "  'had': True,\n",
       "  'hand': True,\n",
       "  'has': True,\n",
       "  'he': True,\n",
       "  'him': True,\n",
       "  'himself': True,\n",
       "  'his': True,\n",
       "  'home': True,\n",
       "  'house': True,\n",
       "  'how': True,\n",
       "  'human': True,\n",
       "  'humor': True,\n",
       "  'i': True,\n",
       "  'if': True,\n",
       "  'ikea': False,\n",
       "  'imply': False,\n",
       "  'important': True,\n",
       "  'in': True,\n",
       "  'insomnia': False,\n",
       "  'institutions': False,\n",
       "  'inter': False,\n",
       "  'into': True,\n",
       "  'is': True,\n",
       "  'it': True,\n",
       "  'jack': True,\n",
       "  'join': True,\n",
       "  'journey': True,\n",
       "  'just': True,\n",
       "  'kicking': False,\n",
       "  'kinda': False,\n",
       "  'know': True,\n",
       "  'last': True,\n",
       "  'later': True,\n",
       "  'leaking': False,\n",
       "  'lean': False,\n",
       "  'least': True,\n",
       "  'life': True,\n",
       "  'likely': True,\n",
       "  'line': True,\n",
       "  'lines': True,\n",
       "  'literally': True,\n",
       "  'little': True,\n",
       "  'longer': True,\n",
       "  'loser': True,\n",
       "  'major': True,\n",
       "  'make': True,\n",
       "  'manufacturer': False,\n",
       "  'many': True,\n",
       "  'markets': False,\n",
       "  'masterpieces': False,\n",
       "  'maybe': True,\n",
       "  'mean': True,\n",
       "  'means': True,\n",
       "  'meatloaf': False,\n",
       "  'media': True,\n",
       "  'met': True,\n",
       "  'more': True,\n",
       "  'most': True,\n",
       "  'mouth': True,\n",
       "  'much': True,\n",
       "  'must': True,\n",
       "  'my': True,\n",
       "  'name': True,\n",
       "  'new': True,\n",
       "  'news': True,\n",
       "  'next': True,\n",
       "  'no': True,\n",
       "  'noble': False,\n",
       "  'norton': True,\n",
       "  'not': True,\n",
       "  'nothing': True,\n",
       "  'now': True,\n",
       "  'number': True,\n",
       "  'obviously': True,\n",
       "  'occasionally': True,\n",
       "  'of': True,\n",
       "  'office': True,\n",
       "  'on': True,\n",
       "  'once': True,\n",
       "  'one': True,\n",
       "  'only': True,\n",
       "  'or': True,\n",
       "  'organization': False,\n",
       "  'other': True,\n",
       "  'our': True,\n",
       "  'out': True,\n",
       "  'outside': True,\n",
       "  'over': True,\n",
       "  'owner': True,\n",
       "  'panned': False,\n",
       "  'perhaps': True,\n",
       "  'pitt': True,\n",
       "  'play': True,\n",
       "  'plays': True,\n",
       "  'plot': True,\n",
       "  'point': True,\n",
       "  'pointless': True,\n",
       "  'points': True,\n",
       "  'politics': True,\n",
       "  'possessions': False,\n",
       "  'previous': True,\n",
       "  'probably': True,\n",
       "  'projectionist': False,\n",
       "  'proves': True,\n",
       "  'provide': True,\n",
       "  'pure': True,\n",
       "  'put': True,\n",
       "  'quarter': False,\n",
       "  'questions': True,\n",
       "  'really': True,\n",
       "  'reasonable': False,\n",
       "  'recurring': False,\n",
       "  'reels': False,\n",
       "  'referenced': False,\n",
       "  'referencing': False,\n",
       "  'respective': False,\n",
       "  'right': True,\n",
       "  'role': True,\n",
       "  'room': True,\n",
       "  's': True,\n",
       "  'satire': True,\n",
       "  'saw': True,\n",
       "  'say': True,\n",
       "  'se7en': False,\n",
       "  'see': True,\n",
       "  'seeing': True,\n",
       "  'seeks': False,\n",
       "  'seems': True,\n",
       "  'self': True,\n",
       "  'sense': True,\n",
       "  'shock': True,\n",
       "  'significantly': False,\n",
       "  'signifiers': False,\n",
       "  'signify': False,\n",
       "  'silly': True,\n",
       "  'since': True,\n",
       "  'sink': False,\n",
       "  'slightly': True,\n",
       "  'slim': False,\n",
       "  'slowly': True,\n",
       "  'small': True,\n",
       "  'so': True,\n",
       "  'social': True,\n",
       "  'soldier': True,\n",
       "  'some': True,\n",
       "  'sometimes': True,\n",
       "  'standing': True,\n",
       "  'starbucks': False,\n",
       "  'state': True,\n",
       "  'status': True,\n",
       "  'still': True,\n",
       "  'story': True,\n",
       "  'strange': True,\n",
       "  'stranger': False,\n",
       "  'stronger': True,\n",
       "  'stuff': True,\n",
       "  'subconsciously': False,\n",
       "  'success': True,\n",
       "  'such': True,\n",
       "  'sucked': False,\n",
       "  'suffice': False,\n",
       "  'sure': True,\n",
       "  'suspiciously': False,\n",
       "  't': True,\n",
       "  'table': True,\n",
       "  'take': True,\n",
       "  'taking': True,\n",
       "  'talent': True,\n",
       "  'talking': True,\n",
       "  'techniques': False,\n",
       "  'tell': True,\n",
       "  'telling': True,\n",
       "  'ten': True,\n",
       "  'texture': False,\n",
       "  'than': True,\n",
       "  'that': True,\n",
       "  'the': True,\n",
       "  'their': True,\n",
       "  'them': True,\n",
       "  'there': True,\n",
       "  'these': True,\n",
       "  'they': True,\n",
       "  'things': True,\n",
       "  'think': True,\n",
       "  'this': True,\n",
       "  'those': True,\n",
       "  'though': True,\n",
       "  'three': True,\n",
       "  'throughout': True,\n",
       "  'time': True,\n",
       "  'to': True,\n",
       "  'today': True,\n",
       "  'toward': True,\n",
       "  'truly': True,\n",
       "  'trying': True,\n",
       "  'twenty': True,\n",
       "  'twist': True,\n",
       "  'two': True,\n",
       "  'tyler': True,\n",
       "  'unappealing': False,\n",
       "  'understand': True,\n",
       "  'unique': True,\n",
       "  'until': True,\n",
       "  'up': True,\n",
       "  'value': True,\n",
       "  'various': True,\n",
       "  'very': True,\n",
       "  'vision': True,\n",
       "  'visual': True,\n",
       "  'want': True,\n",
       "  'wanted': True,\n",
       "  'was': True,\n",
       "  'way': True,\n",
       "  'we': True,\n",
       "  'weeks': True,\n",
       "  'well': True,\n",
       "  'were': True,\n",
       "  'what': True,\n",
       "  'when': True,\n",
       "  'which': True,\n",
       "  'who': True,\n",
       "  'whom': True,\n",
       "  'will': True,\n",
       "  'window': True,\n",
       "  'with': True,\n",
       "  'word': True,\n",
       "  'world': True,\n",
       "  'worldly': False,\n",
       "  'worth': True,\n",
       "  'would': True,\n",
       "  'woven': False,\n",
       "  'years': True,\n",
       "  'you': True,\n",
       "  'young': True,\n",
       "  'yourself': True},\n",
       " 'neg')"
      ]
     },
     "execution_count": 189,
     "metadata": {},
     "output_type": "execute_result"
    }
   ],
   "source": [
    "feature_sets[0]"
   ]
  },
  {
   "cell_type": "markdown",
   "metadata": {},
   "source": [
    "## Using Naïve Bayes to classify the text.\n",
    "\n",
    "NB is a popular baseline method for text categorization. It classifies data into 2 (and only 2) categories (true/false) and uses word frequencies as features.\n",
    "\n",
    "In a nutshell: __posterior = prior occurences * likelyhood / evidence__\n",
    "\n",
    "Advantages: \n",
    "* needs a small set of training data to estimate parameters for classification\n",
    "* scalable (linear)\n",
    "* with proper pre-processing can be comparable with more complicated methods\n",
    "\n",
    "Disadvantages:\n",
    "* strong (naïve) independence assumptions between features\n",
    "* outperformed by other approaches (boosted trees, random forrests)"
   ]
  },
  {
   "cell_type": "markdown",
   "metadata": {},
   "source": [
    "#### Re-shuffle feature sets and select training and test sets"
   ]
  },
  {
   "cell_type": "code",
   "execution_count": 190,
   "metadata": {},
   "outputs": [
    {
     "data": {
      "text/plain": [
       "['neg', 'pos', 'neg', 'neg', 'pos', 'pos', 'neg', 'pos', 'pos', 'neg']"
      ]
     },
     "execution_count": 190,
     "metadata": {},
     "output_type": "execute_result"
    }
   ],
   "source": [
    "[d[1] for d in feature_sets[:10]]"
   ]
  },
  {
   "cell_type": "code",
   "execution_count": 191,
   "metadata": {},
   "outputs": [
    {
     "data": {
      "text/plain": [
       "['pos', 'pos', 'neg', 'neg', 'neg', 'neg', 'pos', 'neg', 'pos', 'neg']"
      ]
     },
     "execution_count": 191,
     "metadata": {},
     "output_type": "execute_result"
    }
   ],
   "source": [
    "random.shuffle(feature_sets)\n",
    "\n",
    "[d[1] for d in feature_sets[:10]]"
   ]
  },
  {
   "cell_type": "code",
   "execution_count": 192,
   "metadata": {},
   "outputs": [],
   "source": [
    "training_set = feature_sets[:1900]\n",
    "testing_set = feature_sets[1900:]"
   ]
  },
  {
   "cell_type": "code",
   "execution_count": 193,
   "metadata": {},
   "outputs": [
    {
     "name": "stdout",
     "output_type": "stream",
     "text": [
      "Classifier accuracy: 0.71\n",
      "1.86 s ± 0 ns per loop (mean ± std. dev. of 1 run, 1 loop each)\n"
     ]
    }
   ],
   "source": [
    "%%timeit -r1 -n1\n",
    "classifier = nltk.NaiveBayesClassifier.train(training_set)\n",
    "classifier_accuracy = nltk.classify.accuracy(classifier, testing_set)\n",
    "print(\"Classifier accuracy: {}\".format(classifier_accuracy))"
   ]
  },
  {
   "cell_type": "code",
   "execution_count": 197,
   "metadata": {},
   "outputs": [
    {
     "name": "stdout",
     "output_type": "stream",
     "text": [
      "Most Informative Features\n",
      "                  regard = False             pos : neg    =     11.9 : 1.0\n",
      "                    slip = False             pos : neg    =     11.9 : 1.0\n",
      "                  avoids = False             pos : neg    =     11.9 : 1.0\n",
      "             fascination = False             pos : neg    =     11.2 : 1.0\n",
      "                    3000 = False             neg : pos    =     10.8 : 1.0\n",
      "             outstanding = True              pos : neg    =     10.6 : 1.0\n",
      "                  hatred = False             pos : neg    =     10.5 : 1.0\n",
      "                seamless = False             pos : neg    =     10.5 : 1.0\n",
      "              astounding = False             pos : neg    =     10.5 : 1.0\n",
      "                   sucks = False             neg : pos    =     10.4 : 1.0\n",
      "                  hudson = False             neg : pos    =     10.2 : 1.0\n",
      "               insulting = False             neg : pos    =     10.0 : 1.0\n",
      "               ludicrous = False             neg : pos    =     10.0 : 1.0\n",
      "               addresses = False             pos : neg    =      9.8 : 1.0\n",
      "              incoherent = False             neg : pos    =      9.5 : 1.0\n"
     ]
    }
   ],
   "source": [
    "classifier.show_most_informative_features(15)"
   ]
  },
  {
   "cell_type": "markdown",
   "metadata": {},
   "source": [
    "## Save a trained classifier for future use using Pickle"
   ]
  },
  {
   "cell_type": "code",
   "execution_count": 202,
   "metadata": {},
   "outputs": [],
   "source": [
    "### Skip this step if you are running for the 2nd > time to see the difference between new and pickled classifier\n",
    "import pickle\n",
    "\n",
    "with open(\"nb_txt_classifier.pickle\", 'wb') as pickle_file:\n",
    "    pickle.dump(classifier, pickle_file)\n"
   ]
  },
  {
   "cell_type": "code",
   "execution_count": 204,
   "metadata": {},
   "outputs": [
    {
     "name": "stdout",
     "output_type": "stream",
     "text": [
      "total 32616\r\n",
      "-rw-r--r--  1 korolo  10513     1069 10 Jul 16:51 LICENSE\r\n",
      "-rw-r--r--  1 korolo  10513      108 10 Jul 16:51 README.md\r\n",
      "-rw-r--r--  1 korolo  10513  7868888 13 Jul 15:48 nb_txt_classifier.pickle\r\n",
      "-rw-r--r--  1 korolo  10513   914288 13 Jul 10:32 nltk.ipynb\r\n",
      "-rw-r--r--  1 korolo  10513    25219 13 Jul 15:48 txt_classifier.ipynb\r\n",
      "-rw-r--r--  1 korolo  10513  7868888 13 Jul 15:47 txt_classifier.pickle\r\n"
     ]
    }
   ],
   "source": [
    "## See if the pickle file was saved to disk:\n",
    "%ll"
   ]
  },
  {
   "cell_type": "markdown",
   "metadata": {},
   "source": [
    "### Re-using a pickled classifier\n",
    "\n",
    "Note that in this particular example, newly reshuffled testing set will likely contain the reviews, which were used in the pickled classifier training set. So the performance of the pickled classifier here will almost always be better than the fresh classifier above."
   ]
  },
  {
   "cell_type": "code",
   "execution_count": 199,
   "metadata": {},
   "outputs": [],
   "source": [
    "with open(\"nb_txt_classifier.pickle\", 'rb') as pickled_classifier:\n",
    "    classifier_p = pickle.load(pickled_classifier)"
   ]
  },
  {
   "cell_type": "code",
   "execution_count": 205,
   "metadata": {},
   "outputs": [
    {
     "name": "stdout",
     "output_type": "stream",
     "text": [
      "Pickled Classifier accuracy: 0.95\n",
      "166 ms ± 0 ns per loop (mean ± std. dev. of 1 run, 1 loop each)\n"
     ]
    }
   ],
   "source": [
    "%%timeit -r1 -n1\n",
    "classifier_accuracy = nltk.classify.accuracy(classifier, testing_set)\n",
    "print(\"Pickled Classifier accuracy: {}\".format(classifier_accuracy))"
   ]
  },
  {
   "cell_type": "code",
   "execution_count": null,
   "metadata": {},
   "outputs": [],
   "source": []
  },
  {
   "cell_type": "code",
   "execution_count": null,
   "metadata": {},
   "outputs": [],
   "source": []
  }
 ],
 "metadata": {
  "kernelspec": {
   "display_name": "Python 3",
   "language": "python",
   "name": "python3"
  },
  "language_info": {
   "codemirror_mode": {
    "name": "ipython",
    "version": 3
   },
   "file_extension": ".py",
   "mimetype": "text/x-python",
   "name": "python",
   "nbconvert_exporter": "python",
   "pygments_lexer": "ipython3",
   "version": "3.6.4"
  }
 },
 "nbformat": 4,
 "nbformat_minor": 2
}
